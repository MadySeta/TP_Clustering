{
 "cells": [
  {
   "cell_type": "code",
   "execution_count": 2,
   "metadata": {},
   "outputs": [],
   "source": [
    "import numpy as np\n",
    "import matplotlib.pyplot as plt\n",
    "from scipy.io import arff\n",
    "from scipy.io import arff\n",
    "from sklearn import cluster\n",
    "from sklearn import metrics"
   ]
  },
  {
   "cell_type": "code",
   "execution_count": 3,
   "metadata": {},
   "outputs": [],
   "source": [
    "def get_data(path,name):\n",
    "    databrut = arff.loadarff(open(path+str(name), 'r'))\n",
    "    datanp = np.array([[x[0],x[1]] for x in databrut[0]])\n",
    "    return datanp"
   ]
  },
  {
   "cell_type": "markdown",
   "metadata": {},
   "source": [
    "### Score de regroupement"
   ]
  },
  {
   "cell_type": "code",
   "execution_count": null,
   "metadata": {},
   "outputs": [],
   "source": [
    "def min_distance_to_center(model, datant):\n",
    "    labels = model.labels_\n",
    "    centers = model.cluster_centers_\n",
    "\n",
    "    min_distances = []\n",
    "\n",
    "    for i in range(model.n_clusters):\n",
    "        indices = np.where(labels == i)[0]\n",
    "        distances = metrics.pairwise_distances(datant[indices], [centers[i]], metric='euclidean')\n",
    "        min_distance = np.min(distances)\n",
    "        min_distances.append(min_distance)\n",
    "\n",
    "    return np.mean(min_distances)"
   ]
  },
  {
   "cell_type": "code",
   "execution_count": null,
   "metadata": {},
   "outputs": [],
   "source": [
    "def max_distance_to_center(model, datant):\n",
    "    labels = model.labels_\n",
    "    centers = model.cluster_centers_\n",
    "\n",
    "    max_distances = []\n",
    "\n",
    "    for i in range(model.n_clusters):\n",
    "        indices = np.where(labels == i)[0]\n",
    "        distances = metrics.pairwise_distances(datant[indices], [centers[i]], metric='euclidean')\n",
    "        max_distance = np.max(distances)\n",
    "        max_distances.append(max_distance)\n",
    "\n",
    "    return np.mean(max_distances)"
   ]
  },
  {
   "cell_type": "code",
   "execution_count": null,
   "metadata": {},
   "outputs": [],
   "source": [
    "def mean_distance_to_center(model, datant):\n",
    "    labels = model.labels_\n",
    "    centers = model.cluster_centers_\n",
    "\n",
    "    mean_distances = []\n",
    "\n",
    "    for i in range(model.n_clusters):\n",
    "        indices = np.where(labels == i)[0]\n",
    "        distances = metrics.pairwise_distances(datant[indices], [centers[i]], metric='euclidean')\n",
    "        mean_distance = np.mean(distances)\n",
    "        mean_distances.append(mean_distance)\n",
    "\n",
    "    return np.mean(mean_distances)"
   ]
  },
  {
   "cell_type": "code",
   "execution_count": null,
   "metadata": {},
   "outputs": [],
   "source": [
    "def calculer_score_regroupement(model,path,name):\n",
    "    min = min_distance_to_center(model,get_data(path,name))\n",
    "    max = max_distance_to_center(model,get_data(path,name))\n",
    "    mean = mean_distance_to_center(model,get_data(path,name))\n",
    "    \n",
    "    # Afficher les résultats\n",
    "    print(f\"Distance moyenne entre les points d'un cluster et son centre pour chaque cluster: {mean}\")\n",
    "    print(f\"Distance minimale pour chaque cluster: {min}\")\n",
    "    print(f\"Distance maximale pour chaque cluster: {max}\")"
   ]
  },
  {
   "cell_type": "markdown",
   "metadata": {},
   "source": [
    "### Score de séparation"
   ]
  },
  {
   "cell_type": "code",
   "execution_count": null,
   "metadata": {},
   "outputs": [],
   "source": [
    "def single_linkage(model,datanp):\n",
    "    labels = model.labels_\n",
    "    n_clusters = model.n_clusters\n",
    "    \n",
    "    single_linkage_distances = []\n",
    "    \n",
    "    for i in range(n_clusters):\n",
    "        for j in range(i + 1, n_clusters):\n",
    "            # Indices des points appartenant aux clusters i et j respectivement\n",
    "            indices_i = np.where(labels == i)[0]\n",
    "            indices_j = np.where(labels == j)[0]\n",
    "    \n",
    "            distances = metrics.pairwise_distances(datanp[indices_i], datanp[indices_j], metric='euclidean')\n",
    "            \n",
    "            min_distance_ij = np.min(distances)\n",
    "    \n",
    "            single_linkage_distances.append(min_distance_ij)\n",
    "            \n",
    "    return np.mean(single_linkage_distances)"
   ]
  },
  {
   "cell_type": "code",
   "execution_count": null,
   "metadata": {},
   "outputs": [],
   "source": [
    "def complete_linkage(model, datanp):\n",
    "    # Obtenir les labels des clusters assignés à chaque point\n",
    "    labels = model.labels_\n",
    "\n",
    "    # Nombre de clusters\n",
    "    n_clusters = model.n_clusters\n",
    "    \n",
    "    # Initialiser la distance minimale entre les exemples les plus proches\n",
    "    complete_linkage_distances = []\n",
    "    \n",
    "    # Calculer la distance entre les exemples les plus proches appartenant à deux clusters différents\n",
    "    for i in range(n_clusters):\n",
    "        for j in range(i + 1, n_clusters):\n",
    "            indices_i = np.where(labels == i)[0]\n",
    "            indices_j = np.where(labels == j)[0]\n",
    "    \n",
    "            distances = metrics.pairwise_distances(datanp[indices_i], datanp[indices_j], metric='euclidean')\n",
    "    \n",
    "            # Extraire la distance minimale\n",
    "            max_distance_ij = np.max(distances)\n",
    "    \n",
    "            # Stocker la distance maximale dans le dictionnaire\n",
    "            complete_linkage_distances.append(max_distance_ij)\n",
    "\n",
    "    return np.mean(complete_linkage_distances)"
   ]
  },
  {
   "cell_type": "code",
   "execution_count": null,
   "metadata": {},
   "outputs": [],
   "source": [
    "def centroid_linkage(model):\n",
    "    clusters = model.cluster_centers_\n",
    "    distances = metrics.pairwise.euclidean_distances(clusters, clusters)\n",
    "    centers_distances_indices = np.triu_indices(n=distances.shape[0], k=1)\n",
    "    return np.mean(distances[centers_distances_indices])"
   ]
  },
  {
   "cell_type": "code",
   "execution_count": null,
   "metadata": {},
   "outputs": [],
   "source": [
    "def calculer_score_separation(model,path,name):\n",
    "    simple = single_linkage(model,get_data(path,name))\n",
    "    complete = complete_linkage(model,get_data(path,name))\n",
    "    centroid = centroid_linkage(model)\n",
    "    \n",
    "    # Afficher les résultats\n",
    "    print(f\"Distance moyenne entre les centres de cluster : {centroid}\")\n",
    "    print(f\"Distance moyenne minimale : {simple}\")\n",
    "    print(f\"Distance moyenne maximale : {complete}\")\n"
   ]
  }
 ],
 "metadata": {
  "kernelspec": {
   "display_name": "Python 3",
   "language": "python",
   "name": "python3"
  },
  "language_info": {
   "codemirror_mode": {
    "name": "ipython",
    "version": 3
   },
   "file_extension": ".py",
   "mimetype": "text/x-python",
   "name": "python",
   "nbconvert_exporter": "python",
   "pygments_lexer": "ipython3",
   "version": "3.8.5"
  }
 },
 "nbformat": 4,
 "nbformat_minor": 4
}
